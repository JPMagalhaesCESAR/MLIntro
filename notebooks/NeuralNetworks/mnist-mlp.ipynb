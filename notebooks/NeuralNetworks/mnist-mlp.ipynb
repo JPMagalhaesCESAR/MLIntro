{
 "cells": [
  {
   "cell_type": "markdown",
   "metadata": {},
   "source": [
    "# MNIST - MLP - Handwitten digits classification\n",
    "First an aux function to load the database"
   ]
  },
  {
   "cell_type": "code",
   "execution_count": 1,
   "metadata": {},
   "outputs": [],
   "source": [
    "import os\n",
    "import struct\n",
    "import numpy as np\n",
    "import gzip\n",
    " \n",
    "def load_mnist(path, kind='train'):\n",
    "    \"\"\"Load MNIST data from `path`\"\"\"\n",
    "    labels_path = os.path.join(path, \n",
    "                               '%s-labels-idx1-ubyte.gz' % kind)\n",
    "    images_path = os.path.join(path, \n",
    "                               '%s-images-idx3-ubyte.gz' % kind)\n",
    "        \n",
    "    with gzip.open(labels_path, 'rb') as lbpath:\n",
    "        lbpath.read(8)\n",
    "        buffer = lbpath.read()\n",
    "        labels = np.frombuffer(buffer, dtype=np.uint8)\n",
    "\n",
    "    with gzip.open(images_path, 'rb') as imgpath:\n",
    "        imgpath.read(16)\n",
    "        buffer = imgpath.read()\n",
    "        images = np.frombuffer(buffer, \n",
    "                               dtype=np.uint8).reshape(\n",
    "            len(labels), 784).astype(np.float64)\n",
    " \n",
    "    return images, labels\n"
   ]
  },
  {
   "cell_type": "markdown",
   "metadata": {},
   "source": [
    "## Load train and test bases"
   ]
  },
  {
   "cell_type": "code",
   "execution_count": 2,
   "metadata": {},
   "outputs": [
    {
     "name": "stdout",
     "output_type": "stream",
     "text": [
      "Rows: 60000, columns: 784\n"
     ]
    }
   ],
   "source": [
    "X_train, y_train = load_mnist('mnist/', kind='train')\n",
    "print('Rows: %d, columns: %d' % (X_train.shape[0], X_train.shape[1]))"
   ]
  },
  {
   "cell_type": "code",
   "execution_count": 3,
   "metadata": {},
   "outputs": [
    {
     "name": "stdout",
     "output_type": "stream",
     "text": [
      "Rows: 10000, columns: 784\n"
     ]
    }
   ],
   "source": [
    "X_test, y_test = load_mnist('mnist/', kind='t10k')\n",
    "print('Rows: %d, columns: %d' % (X_test.shape[0], X_test.shape[1]))"
   ]
  },
  {
   "cell_type": "markdown",
   "metadata": {},
   "source": [
    "## Plot some examples in this base\n",
    "First one for each digit, then some example of the number 7 only"
   ]
  },
  {
   "cell_type": "code",
   "execution_count": 5,
   "metadata": {},
   "outputs": [
    {
     "data": {
      "image/png": "[encoded data removed]",
      "text/plain": [
       "<matplotlib.figure.Figure at 0x10492fd10>"
      ]
     },
     "metadata": {},
     "output_type": "display_data"
    }
   ],
   "source": [
    "import matplotlib.pyplot as plt\n",
    "\n",
    "fig, ax = plt.subplots(nrows=2, ncols=5, sharex=True, sharey=True,)\n",
    "ax = ax.flatten()\n",
    "for i in range(10):\n",
    "    img = X_train[y_train == i][0].reshape(28, 28)\n",
    "    ax[i].imshow(img, cmap='Greys', interpolation='nearest')\n",
    "\n",
    "ax[0].set_xticks([])\n",
    "ax[0].set_yticks([])\n",
    "plt.tight_layout()\n",
    "plt.show()"
   ]
  },
  {
   "cell_type": "code",
   "execution_count": 6,
   "metadata": {},
   "outputs": [
    {
     "data": {
      "image/png": "[encoded data removed]",
      "text/plain": [
       "<matplotlib.figure.Figure at 0x104bbded0>"
      ]
     },
     "metadata": {},
     "output_type": "display_data"
    }
   ],
   "source": [
    "fig, ax = plt.subplots(nrows=5, ncols=5, sharex=True, sharey=True,)\n",
    "ax = ax.flatten()\n",
    "for i in range(25):\n",
    "    img = X_train[y_train == 7][i].reshape(28, 28)\n",
    "    ax[i].imshow(img, cmap='Greys', interpolation='nearest')\n",
    "\n",
    "ax[0].set_xticks([])\n",
    "ax[0].set_yticks([])\n",
    "plt.tight_layout()\n",
    "# plt.savefig('./figures/mnist_7.png', dpi=300)\n",
    "plt.show()\n"
   ]
  },
  {
   "cell_type": "markdown",
   "metadata": {},
   "source": [
    "## Create the model and train it"
   ]
  },
  {
   "cell_type": "code",
   "execution_count": 7,
   "metadata": {},
   "outputs": [
    {
     "name": "stdout",
     "output_type": "stream",
     "text": [
      "Iteration 1, loss = 2.53193570\n",
      "Iteration 2, loss = 0.72367449\n",
      "Iteration 3, loss = 0.43598218\n",
      "Iteration 4, loss = 0.32789156\n",
      "Iteration 5, loss = 0.26705275\n",
      "Iteration 6, loss = 0.22812803\n",
      "Iteration 7, loss = 0.18948864\n",
      "Iteration 8, loss = 0.17177551\n",
      "Iteration 9, loss = 0.15446131\n",
      "Iteration 10, loss = 0.14211904\n",
      "Iteration 11, loss = 0.13283876\n",
      "Iteration 12, loss = 0.13170444\n",
      "Iteration 13, loss = 0.12642326\n",
      "Iteration 14, loss = 0.11370073\n",
      "Iteration 15, loss = 0.11408186\n",
      "Iteration 16, loss = 0.10846051\n",
      "Iteration 17, loss = 0.10370602\n",
      "Iteration 18, loss = 0.10016079\n",
      "Iteration 19, loss = 0.09662952\n",
      "Iteration 20, loss = 0.09805937\n",
      "Iteration 21, loss = 0.09823469\n",
      "Iteration 22, loss = 0.09053757\n",
      "Iteration 23, loss = 0.08129420\n",
      "Iteration 24, loss = 0.08080506\n",
      "Iteration 25, loss = 0.08841703\n",
      "Iteration 26, loss = 0.08337507\n",
      "Iteration 27, loss = 0.07136408\n",
      "Iteration 28, loss = 0.07691766\n",
      "Iteration 29, loss = 0.06946308\n",
      "Iteration 30, loss = 0.06965782\n",
      "Iteration 31, loss = 0.06558731\n",
      "Iteration 32, loss = 0.06435488\n",
      "Iteration 33, loss = 0.06343884\n",
      "Iteration 34, loss = 0.06670086\n",
      "Iteration 35, loss = 0.06140113\n",
      "Iteration 36, loss = 0.05647581\n",
      "Iteration 37, loss = 0.05577205\n",
      "Iteration 38, loss = 0.05784269\n",
      "Iteration 39, loss = 0.05677514\n",
      "Iteration 40, loss = 0.06095343\n",
      "Iteration 41, loss = 0.06232826\n",
      "Iteration 42, loss = 0.05232767\n",
      "Iteration 43, loss = 0.05308151\n",
      "Iteration 44, loss = 0.04173781\n",
      "Iteration 45, loss = 0.05235037\n",
      "Iteration 46, loss = 0.05426589\n",
      "Iteration 47, loss = 0.05077470\n",
      "Iteration 48, loss = 0.04794918\n",
      "Iteration 49, loss = 0.04735094\n",
      "Iteration 50, loss = 0.06415950\n",
      "Iteration 51, loss = 0.04666753\n",
      "Iteration 52, loss = 0.04322275\n",
      "Iteration 53, loss = 0.04843991\n",
      "Iteration 54, loss = 0.04319773\n",
      "Iteration 55, loss = 0.04115798\n",
      "Iteration 56, loss = 0.04367367\n",
      "Iteration 57, loss = 0.04548233\n",
      "Iteration 58, loss = 0.03742375\n",
      "Iteration 59, loss = 0.05035842\n",
      "Iteration 60, loss = 0.05460403\n",
      "Iteration 61, loss = 0.03733423\n",
      "Iteration 62, loss = 0.03850144\n",
      "Iteration 63, loss = 0.03698252\n",
      "Iteration 64, loss = 0.04476009\n",
      "Iteration 65, loss = 0.03573267\n",
      "Iteration 66, loss = 0.04833421\n",
      "Iteration 67, loss = 0.03942152\n",
      "Iteration 68, loss = 0.04092259\n",
      "Iteration 69, loss = 0.03662593\n",
      "Iteration 70, loss = 0.04341978\n",
      "Iteration 71, loss = 0.04632456\n",
      "Iteration 72, loss = 0.03514418\n",
      "Iteration 73, loss = 0.03472443\n",
      "Iteration 74, loss = 0.04248864\n",
      "Iteration 75, loss = 0.03446209\n",
      "Iteration 76, loss = 0.05043936\n",
      "Iteration 77, loss = 0.04107428\n",
      "Iteration 78, loss = 0.03187511\n",
      "Iteration 79, loss = 0.03468081\n",
      "Iteration 80, loss = 0.03446194\n",
      "Iteration 81, loss = 0.03675539\n",
      "Iteration 82, loss = 0.02919209\n",
      "Iteration 83, loss = 0.03108484\n",
      "Iteration 84, loss = 0.04018374\n",
      "Iteration 85, loss = 0.03749790\n",
      "Iteration 86, loss = 0.03899003\n",
      "Iteration 87, loss = 0.03657545\n",
      "Iteration 88, loss = 0.02811365\n",
      "Iteration 89, loss = 0.03040107\n",
      "Iteration 90, loss = 0.03598639\n",
      "Iteration 91, loss = 0.04087244\n",
      "Iteration 92, loss = 0.03259743\n",
      "Iteration 93, loss = 0.03923257\n",
      "Iteration 94, loss = 0.03813737\n",
      "Iteration 95, loss = 0.02942588\n",
      "Iteration 96, loss = 0.02796293\n",
      "Iteration 97, loss = 0.04364994\n",
      "Iteration 98, loss = 0.04246493\n",
      "Iteration 99, loss = 0.03824928\n",
      "Iteration 100, loss = 0.02928127\n",
      "Iteration 101, loss = 0.02689537\n",
      "Iteration 102, loss = 0.03053828\n",
      "Iteration 103, loss = 0.03428064\n",
      "Iteration 104, loss = 0.04754154\n",
      "Iteration 105, loss = 0.03189749\n",
      "Iteration 106, loss = 0.03182554\n",
      "Iteration 107, loss = 0.02584755\n",
      "Iteration 108, loss = 0.02702091\n",
      "Iteration 109, loss = 0.03636596\n",
      "Iteration 110, loss = 0.04205574\n",
      "Iteration 111, loss = 0.03023357\n",
      "Iteration 112, loss = 0.02649121\n",
      "Iteration 113, loss = 0.02971118\n",
      "Iteration 114, loss = 0.04311110\n",
      "Iteration 115, loss = 0.03070205\n",
      "Iteration 116, loss = 0.03514250\n",
      "Iteration 117, loss = 0.03510695\n",
      "Iteration 118, loss = 0.03725305\n",
      "Training loss did not improve more than tol=0.000100 for 10 consecutive epochs. Stopping.\n"
     ]
    },
    {
     "data": {
      "text/plain": [
       "MLPClassifier(activation='relu', alpha=0.0001, batch_size='auto', beta_1=0.9,\n",
       "       beta_2=0.999, early_stopping=False, epsilon=1e-08,\n",
       "       hidden_layer_sizes=(100,), learning_rate='constant',\n",
       "       learning_rate_init=0.001, max_iter=200, momentum=0.9,\n",
       "       n_iter_no_change=10, nesterovs_momentum=True, power_t=0.5,\n",
       "       random_state=None, shuffle=True, solver='adam', tol=0.0001,\n",
       "       validation_fraction=0.1, verbose=True, warm_start=False)"
      ]
     },
     "execution_count": 7,
     "metadata": {},
     "output_type": "execute_result"
    }
   ],
   "source": [
    "from sklearn.neural_network import MLPClassifier\n",
    "\n",
    "model = MLPClassifier(hidden_layer_sizes=(100,),\n",
    "                   activation='relu',\n",
    "                   solver='adam', alpha=0.0001,\n",
    "                   batch_size='auto', learning_rate='constant',\n",
    "                   learning_rate_init=0.001, max_iter=200,\n",
    "                   shuffle=True, tol=0.0001, verbose=True)\n",
    "model.fit(X_train, y_train)"
   ]
  },
  {
   "cell_type": "markdown",
   "metadata": {},
   "source": [
    "## Plot the loss curve and display the accuracy on train and test sets"
   ]
  },
  {
   "cell_type": "code",
   "execution_count": 10,
   "metadata": {},
   "outputs": [
    {
     "data": {
      "image/png": "[encoded data removed]",
      "text/plain": [
       "<matplotlib.figure.Figure at 0x104b89d50>"
      ]
     },
     "metadata": {
      "needs_background": "light"
     },
     "output_type": "display_data"
    }
   ],
   "source": [
    "import matplotlib.pyplot as plt\n",
    "\n",
    "plt.plot(range(len(model.loss_curve_)), model.loss_curve_)\n",
    "plt.ylabel('Cost')\n",
    "plt.xlabel('Epochs')\n",
    "plt.tight_layout()\n",
    "plt.show()"
   ]
  },
  {
   "cell_type": "code",
   "execution_count": 18,
   "metadata": {},
   "outputs": [
    {
     "name": "stdout",
     "output_type": "stream",
     "text": [
      "Training accuracy: 99.34%\n"
     ]
    }
   ],
   "source": [
    "import sys\n",
    "\n",
    "y_train_pred = model.predict(X_train)\n",
    "\n",
    "acc = ((np.sum(y_train == y_train_pred, axis=0)).astype('float') /\n",
    "           X_train.shape[0])\n",
    "\n",
    "print('Training accuracy: %.2f%%' % (acc * 100))"
   ]
  },
  {
   "cell_type": "code",
   "execution_count": 17,
   "metadata": {},
   "outputs": [
    {
     "name": "stdout",
     "output_type": "stream",
     "text": [
      "Test accuracy: 96.40%\n"
     ]
    }
   ],
   "source": [
    "y_test_pred = model.predict(X_test)\n",
    "\n",
    "acc = ((np.sum(y_test == y_test_pred, axis=0)).astype('float') /\n",
    "           X_test.shape[0])\n",
    "\n",
    "print('Test accuracy: %.2f%%' % (acc * 100))"
   ]
  },
  {
   "cell_type": "markdown",
   "metadata": {},
   "source": [
    "## Display some errors"
   ]
  },
  {
   "cell_type": "code",
   "execution_count": 14,
   "metadata": {},
   "outputs": [
    {
     "data": {
      "image/png": "[encoded data removed]",
      "text/plain": [
       "<matplotlib.figure.Figure at 0x104af8e10>"
      ]
     },
     "metadata": {},
     "output_type": "display_data"
    }
   ],
   "source": [
    "miscl_img = X_test[y_test != y_test_pred][:25]\n",
    "correct_lab = y_test[y_test != y_test_pred][:25]\n",
    "miscl_lab = y_test_pred[y_test != y_test_pred][:25]\n",
    "\n",
    "fig, ax = plt.subplots(nrows=5, ncols=5, sharex=True, sharey=True,)\n",
    "ax = ax.flatten()\n",
    "for i in range(25):\n",
    "    img = miscl_img[i].reshape(28, 28)\n",
    "    ax[i].imshow(img, cmap='Greys', interpolation='nearest')\n",
    "    ax[i].set_title('%d) t: %d p: %d' % (i+1, correct_lab[i], miscl_lab[i]))\n",
    "\n",
    "ax[0].set_xticks([])\n",
    "ax[0].set_yticks([])\n",
    "plt.tight_layout()\n",
    "plt.show()\n"
   ]
  },
  {
   "cell_type": "code",
   "execution_count": null,
   "metadata": {},
   "outputs": [],
   "source": []
  }
 ],
 "metadata": {
  "kernelspec": {
   "display_name": "Python 2",
   "language": "python",
   "name": "python2"
  },
  "language_info": {
   "codemirror_mode": {
    "name": "ipython",
    "version": 2
   },
   "file_extension": ".py",
   "mimetype": "text/x-python",
   "name": "python",
   "nbconvert_exporter": "python",
   "pygments_lexer": "ipython2",
   "version": "2.7.15"
  }
 },
 "nbformat": 4,
 "nbformat_minor": 2
}
