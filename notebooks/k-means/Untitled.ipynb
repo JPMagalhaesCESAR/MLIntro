{
 "cells": [
  {
   "cell_type": "markdown",
   "metadata": {},
   "source": [
    "# Iris - Logistic Regression\n",
    "This example applies Logistic Regression in order to predict the type of iris plant based on sepal and petal length and width.\n",
    "\n",
    "## Import some useful libraries and get Spark Context"
   ]
  },
  {
   "cell_type": "code",
   "execution_count": 1,
   "metadata": {},
   "outputs": [],
   "source": [
    "from pyspark import SparkConf, SparkContext\n",
    "from pyspark.sql import SQLContext\n",
    "import pandas as pd\n",
    "import numpy as np\n",
    "import matplotlib.pyplot as plt\n",
    "import seaborn as sns\n",
    "%matplotlib inline\n",
    "\n",
    "sc= SparkContext()\n",
    "sqlContext = SQLContext(sc)"
   ]
  },
  {
   "cell_type": "markdown",
   "metadata": {},
   "source": [
    "## Load the database, convert it to Spark and split data into train and test sets\n",
    "\n",
    "[Iris Data Set](https://archive.ics.uci.edu/ml/datasets/iris)\n",
    "\n",
    "Attribute Information:\n",
    " \t\n",
    "- sepal length in cm\n",
    "- sepal width in cm\n",
    "- petal length in cm\n",
    "- petal width in cm\n",
    "- class:\n",
    "    - Iris-Setosa\n",
    "    - Iris-Versicolour\n",
    "    - Iris-Virginica"
   ]
  },
  {
   "cell_type": "code",
   "execution_count": 2,
   "metadata": {
    "scrolled": true
   },
   "outputs": [
    {
     "data": {
      "text/html": [
       "<div>\n",
       "<style scoped>\n",
       "    .dataframe tbody tr th:only-of-type {\n",
       "        vertical-align: middle;\n",
       "    }\n",
       "\n",
       "    .dataframe tbody tr th {\n",
       "        vertical-align: top;\n",
       "    }\n",
       "\n",
       "    .dataframe thead th {\n",
       "        text-align: right;\n",
       "    }\n",
       "</style>\n",
       "<table border=\"1\" class=\"dataframe\">\n",
       "  <thead>\n",
       "    <tr style=\"text-align: right;\">\n",
       "      <th></th>\n",
       "      <th>sepal_length</th>\n",
       "      <th>sepal_width</th>\n",
       "      <th>petal_length</th>\n",
       "      <th>petal_width</th>\n",
       "      <th>species</th>\n",
       "    </tr>\n",
       "  </thead>\n",
       "  <tbody>\n",
       "    <tr>\n",
       "      <th>0</th>\n",
       "      <td>4.9</td>\n",
       "      <td>3.0</td>\n",
       "      <td>1.4</td>\n",
       "      <td>0.2</td>\n",
       "      <td>Iris-setosa</td>\n",
       "    </tr>\n",
       "    <tr>\n",
       "      <th>1</th>\n",
       "      <td>4.7</td>\n",
       "      <td>3.2</td>\n",
       "      <td>1.3</td>\n",
       "      <td>0.2</td>\n",
       "      <td>Iris-setosa</td>\n",
       "    </tr>\n",
       "    <tr>\n",
       "      <th>2</th>\n",
       "      <td>4.6</td>\n",
       "      <td>3.1</td>\n",
       "      <td>1.5</td>\n",
       "      <td>0.2</td>\n",
       "      <td>Iris-setosa</td>\n",
       "    </tr>\n",
       "    <tr>\n",
       "      <th>3</th>\n",
       "      <td>5.0</td>\n",
       "      <td>3.6</td>\n",
       "      <td>1.4</td>\n",
       "      <td>0.2</td>\n",
       "      <td>Iris-setosa</td>\n",
       "    </tr>\n",
       "    <tr>\n",
       "      <th>4</th>\n",
       "      <td>5.4</td>\n",
       "      <td>3.9</td>\n",
       "      <td>1.7</td>\n",
       "      <td>0.4</td>\n",
       "      <td>Iris-setosa</td>\n",
       "    </tr>\n",
       "  </tbody>\n",
       "</table>\n",
       "</div>"
      ],
      "text/plain": [
       "   sepal_length  sepal_width  petal_length  petal_width      species\n",
       "0           4.9          3.0           1.4          0.2  Iris-setosa\n",
       "1           4.7          3.2           1.3          0.2  Iris-setosa\n",
       "2           4.6          3.1           1.5          0.2  Iris-setosa\n",
       "3           5.0          3.6           1.4          0.2  Iris-setosa\n",
       "4           5.4          3.9           1.7          0.4  Iris-setosa"
      ]
     },
     "execution_count": 2,
     "metadata": {},
     "output_type": "execute_result"
    }
   ],
   "source": [
    "pdf = pd.read_csv('iris.data')\n",
    "pdf.columns = ['sepal_length', 'sepal_width', 'petal_length', 'petal_width', 'species']\n",
    "data = sqlContext.createDataFrame(pdf)\n",
    "pdf.head()"
   ]
  },
  {
   "cell_type": "code",
   "execution_count": 16,
   "metadata": {},
   "outputs": [
    {
     "data": {
      "text/plain": [
       "sepal_length    float64\n",
       "sepal_width     float64\n",
       "petal_length    float64\n",
       "petal_width     float64\n",
       "species          object\n",
       "dtype: object"
      ]
     },
     "execution_count": 16,
     "metadata": {},
     "output_type": "execute_result"
    }
   ],
   "source": [
    "pdf.dtypes"
   ]
  },
  {
   "cell_type": "code",
   "execution_count": 19,
   "metadata": {},
   "outputs": [
    {
     "data": {
      "text/plain": [
       "sepal_length     float64\n",
       "sepal_width      float64\n",
       "petal_length     float64\n",
       "petal_width      float64\n",
       "species         category\n",
       "species_cat         int8\n",
       "dtype: object"
      ]
     },
     "execution_count": 19,
     "metadata": {},
     "output_type": "execute_result"
    }
   ],
   "source": [
    "pdf.species = pdf.species.astype('category')\n",
    "pdf.dtypes"
   ]
  },
  {
   "cell_type": "code",
   "execution_count": 20,
   "metadata": {},
   "outputs": [
    {
     "data": {
      "text/html": [
       "<div>\n",
       "<style scoped>\n",
       "    .dataframe tbody tr th:only-of-type {\n",
       "        vertical-align: middle;\n",
       "    }\n",
       "\n",
       "    .dataframe tbody tr th {\n",
       "        vertical-align: top;\n",
       "    }\n",
       "\n",
       "    .dataframe thead th {\n",
       "        text-align: right;\n",
       "    }\n",
       "</style>\n",
       "<table border=\"1\" class=\"dataframe\">\n",
       "  <thead>\n",
       "    <tr style=\"text-align: right;\">\n",
       "      <th></th>\n",
       "      <th>sepal_length</th>\n",
       "      <th>sepal_width</th>\n",
       "      <th>petal_length</th>\n",
       "      <th>petal_width</th>\n",
       "      <th>species</th>\n",
       "      <th>species_cat</th>\n",
       "    </tr>\n",
       "  </thead>\n",
       "  <tbody>\n",
       "    <tr>\n",
       "      <th>0</th>\n",
       "      <td>4.9</td>\n",
       "      <td>3.0</td>\n",
       "      <td>1.4</td>\n",
       "      <td>0.2</td>\n",
       "      <td>Iris-setosa</td>\n",
       "      <td>0</td>\n",
       "    </tr>\n",
       "    <tr>\n",
       "      <th>1</th>\n",
       "      <td>4.7</td>\n",
       "      <td>3.2</td>\n",
       "      <td>1.3</td>\n",
       "      <td>0.2</td>\n",
       "      <td>Iris-setosa</td>\n",
       "      <td>0</td>\n",
       "    </tr>\n",
       "    <tr>\n",
       "      <th>2</th>\n",
       "      <td>4.6</td>\n",
       "      <td>3.1</td>\n",
       "      <td>1.5</td>\n",
       "      <td>0.2</td>\n",
       "      <td>Iris-setosa</td>\n",
       "      <td>0</td>\n",
       "    </tr>\n",
       "    <tr>\n",
       "      <th>3</th>\n",
       "      <td>5.0</td>\n",
       "      <td>3.6</td>\n",
       "      <td>1.4</td>\n",
       "      <td>0.2</td>\n",
       "      <td>Iris-setosa</td>\n",
       "      <td>0</td>\n",
       "    </tr>\n",
       "    <tr>\n",
       "      <th>4</th>\n",
       "      <td>5.4</td>\n",
       "      <td>3.9</td>\n",
       "      <td>1.7</td>\n",
       "      <td>0.4</td>\n",
       "      <td>Iris-setosa</td>\n",
       "      <td>0</td>\n",
       "    </tr>\n",
       "  </tbody>\n",
       "</table>\n",
       "</div>"
      ],
      "text/plain": [
       "   sepal_length  sepal_width  petal_length  petal_width      species  \\\n",
       "0           4.9          3.0           1.4          0.2  Iris-setosa   \n",
       "1           4.7          3.2           1.3          0.2  Iris-setosa   \n",
       "2           4.6          3.1           1.5          0.2  Iris-setosa   \n",
       "3           5.0          3.6           1.4          0.2  Iris-setosa   \n",
       "4           5.4          3.9           1.7          0.4  Iris-setosa   \n",
       "\n",
       "   species_cat  \n",
       "0            0  \n",
       "1            0  \n",
       "2            0  \n",
       "3            0  \n",
       "4            0  "
      ]
     },
     "execution_count": 20,
     "metadata": {},
     "output_type": "execute_result"
    }
   ],
   "source": [
    "pdf[\"species_cat\"] = pdf.species.cat.codes\n",
    "pdf.head()"
   ]
  },
  {
   "cell_type": "code",
   "execution_count": 25,
   "metadata": {},
   "outputs": [
    {
     "data": {
      "text/plain": [
       "<matplotlib.collections.PathCollection at 0x11691b828>"
      ]
     },
     "execution_count": 25,
     "metadata": {},
     "output_type": "execute_result"
    },
    {
     "data": {
      "image/png": "[encoded data removed]",
      "text/plain": [
       "<Figure size 432x288 with 1 Axes>"
      ]
     },
     "metadata": {
      "needs_background": "light"
     },
     "output_type": "display_data"
    }
   ],
   "source": [
    "length = pdf.petal_length # use only 'sepal length and sepal width'\n",
    "width = pdf.petal_width\n",
    "y_iris = pdf.species_cat\n",
    "plt.scatter(width, length, c=y_iris)"
   ]
  },
  {
   "cell_type": "code",
   "execution_count": 37,
   "metadata": {},
   "outputs": [
    {
     "data": {
      "text/html": [
       "<div>\n",
       "<style scoped>\n",
       "    .dataframe tbody tr th:only-of-type {\n",
       "        vertical-align: middle;\n",
       "    }\n",
       "\n",
       "    .dataframe tbody tr th {\n",
       "        vertical-align: top;\n",
       "    }\n",
       "\n",
       "    .dataframe thead th {\n",
       "        text-align: right;\n",
       "    }\n",
       "</style>\n",
       "<table border=\"1\" class=\"dataframe\">\n",
       "  <thead>\n",
       "    <tr style=\"text-align: right;\">\n",
       "      <th></th>\n",
       "      <th>petal_length</th>\n",
       "      <th>petal_width</th>\n",
       "    </tr>\n",
       "  </thead>\n",
       "  <tbody>\n",
       "    <tr>\n",
       "      <th>0</th>\n",
       "      <td>1.4</td>\n",
       "      <td>0.2</td>\n",
       "    </tr>\n",
       "    <tr>\n",
       "      <th>1</th>\n",
       "      <td>1.3</td>\n",
       "      <td>0.2</td>\n",
       "    </tr>\n",
       "    <tr>\n",
       "      <th>2</th>\n",
       "      <td>1.5</td>\n",
       "      <td>0.2</td>\n",
       "    </tr>\n",
       "    <tr>\n",
       "      <th>3</th>\n",
       "      <td>1.4</td>\n",
       "      <td>0.2</td>\n",
       "    </tr>\n",
       "    <tr>\n",
       "      <th>4</th>\n",
       "      <td>1.7</td>\n",
       "      <td>0.4</td>\n",
       "    </tr>\n",
       "  </tbody>\n",
       "</table>\n",
       "</div>"
      ],
      "text/plain": [
       "   petal_length  petal_width\n",
       "0           1.4          0.2\n",
       "1           1.3          0.2\n",
       "2           1.5          0.2\n",
       "3           1.4          0.2\n",
       "4           1.7          0.4"
      ]
     },
     "execution_count": 37,
     "metadata": {},
     "output_type": "execute_result"
    }
   ],
   "source": [
    "X = pdf.filter(['petal_length','petal_width'], axis=1) # use only 'sepal length and sepal width'\n",
    "y = pdf.species_cat\n",
    "X.head()"
   ]
  },
  {
   "cell_type": "code",
   "execution_count": 39,
   "metadata": {},
   "outputs": [
    {
     "data": {
      "image/png": "[encoded data removed]",
      "text/plain": [
       "<Figure size 1080x360 with 3 Axes>"
      ]
     },
     "metadata": {
      "needs_background": "light"
     },
     "output_type": "display_data"
    }
   ],
   "source": [
    "from sklearn import cluster, datasets\n",
    "\n",
    "km2 = cluster.KMeans(n_clusters=2).fit(X)\n",
    "km3 = cluster.KMeans(n_clusters=3).fit(X)\n",
    "km4 = cluster.KMeans(n_clusters=4).fit(X)\n",
    "\n",
    "plt.figure(figsize=(15, 5))\n",
    "plt.subplot(131)\n",
    "plt.scatter(X.petal_length, X.petal_width, c=km2.labels_)\n",
    "plt.title(\"K=2, J=%.2f\" % km2.inertia_)\n",
    "c2 = km2.cluster_centers_\n",
    "plt.scatter(c2[:, 0], c2[:, 1], c='red', s=200, alpha=0.5);\n",
    "\n",
    "plt.subplot(132)\n",
    "plt.scatter(X.petal_length, X.petal_width, c=km3.labels_)\n",
    "plt.title(\"K=3, J=%.2f\" % km3.inertia_)\n",
    "c3 = km3.cluster_centers_\n",
    "plt.scatter(c3[:, 0], c3[:, 1], c='red', s=200, alpha=0.5);\n",
    "\n",
    "plt.subplot(133)\n",
    "plt.scatter(X.petal_length, X.petal_width, c=km4.labels_)\n",
    "plt.title(\"K=4, J=%.2f\" % km4.inertia_)\n",
    "c4 = km4.cluster_centers_\n",
    "plt.scatter(c4[:, 0], c4[:, 1], c='red', s=200, alpha=0.5);"
   ]
  },
  {
   "cell_type": "code",
   "execution_count": 40,
   "metadata": {},
   "outputs": [
    {
     "data": {
      "text/plain": [
       "<matplotlib.collections.PathCollection at 0x117c39940>"
      ]
     },
     "execution_count": 40,
     "metadata": {},
     "output_type": "execute_result"
    },
    {
     "data": {
      "image/png": "[encoded data removed]",
      "text/plain": [
       "<Figure size 1080x360 with 3 Axes>"
      ]
     },
     "metadata": {
      "needs_background": "light"
     },
     "output_type": "display_data"
    }
   ],
   "source": [
    "plt.figure(figsize=(15, 5))\n",
    "plt.subplot(131)\n",
    "plt.title(\"Data without labels\")\n",
    "plt.scatter(X.petal_length, X.petal_width)\n",
    "\n",
    "plt.subplot(132)\n",
    "plt.title(\"Real species\")\n",
    "plt.scatter(X.petal_length, X.petal_width, c=y)\n",
    "\n",
    "plt.subplot(133)\n",
    "plt.title(\"k-means Clusters\")\n",
    "plt.scatter(X.petal_length, X.petal_width, c=km3.labels_)"
   ]
  },
  {
   "cell_type": "code",
   "execution_count": 62,
   "metadata": {},
   "outputs": [
    {
     "name": "stdout",
     "output_type": "stream",
     "text": [
      "+------------+-----------+------------+-----------+-----------+-----------+\n",
      "|sepal_length|sepal_width|petal_length|petal_width|    species|species_cat|\n",
      "+------------+-----------+------------+-----------+-----------+-----------+\n",
      "|         4.9|        3.0|         1.4|        0.2|Iris-setosa|          0|\n",
      "|         4.7|        3.2|         1.3|        0.2|Iris-setosa|          0|\n",
      "|         4.6|        3.1|         1.5|        0.2|Iris-setosa|          0|\n",
      "+------------+-----------+------------+-----------+-----------+-----------+\n",
      "only showing top 3 rows\n",
      "\n"
     ]
    }
   ],
   "source": [
    "df = sqlContext.createDataFrame(pdf)\n",
    "df.show(3)"
   ]
  },
  {
   "cell_type": "code",
   "execution_count": 63,
   "metadata": {},
   "outputs": [
    {
     "name": "stdout",
     "output_type": "stream",
     "text": [
      "+------------+-----------+------------+-----------+-----------+-----------+-----------------+\n",
      "|sepal_length|sepal_width|petal_length|petal_width|    species|species_cat|         features|\n",
      "+------------+-----------+------------+-----------+-----------+-----------+-----------------+\n",
      "|         4.9|        3.0|         1.4|        0.2|Iris-setosa|          0|[4.9,3.0,1.4,0.2]|\n",
      "|         4.7|        3.2|         1.3|        0.2|Iris-setosa|          0|[4.7,3.2,1.3,0.2]|\n",
      "|         4.6|        3.1|         1.5|        0.2|Iris-setosa|          0|[4.6,3.1,1.5,0.2]|\n",
      "+------------+-----------+------------+-----------+-----------+-----------+-----------------+\n",
      "only showing top 3 rows\n",
      "\n"
     ]
    }
   ],
   "source": [
    "from pyspark.ml.feature import VectorAssembler\n",
    "\n",
    "vectorAssembler = VectorAssembler(inputCols = ['sepal_length', \"sepal_width\", \"petal_length\", \"petal_width\"], outputCol = 'features')\n",
    "df = vectorAssembler.transform(df)\n",
    "df.show(3)"
   ]
  },
  {
   "cell_type": "code",
   "execution_count": 65,
   "metadata": {},
   "outputs": [
    {
     "name": "stdout",
     "output_type": "stream",
     "text": [
      "+-----------------+\n",
      "|         features|\n",
      "+-----------------+\n",
      "|[4.9,3.0,1.4,0.2]|\n",
      "|[4.7,3.2,1.3,0.2]|\n",
      "|[4.6,3.1,1.5,0.2]|\n",
      "|[5.0,3.6,1.4,0.2]|\n",
      "|[5.4,3.9,1.7,0.4]|\n",
      "|[4.6,3.4,1.4,0.3]|\n",
      "|[5.0,3.4,1.5,0.2]|\n",
      "|[4.4,2.9,1.4,0.2]|\n",
      "|[4.9,3.1,1.5,0.1]|\n",
      "|[5.4,3.7,1.5,0.2]|\n",
      "|[4.8,3.4,1.6,0.2]|\n",
      "|[4.8,3.0,1.4,0.1]|\n",
      "|[4.3,3.0,1.1,0.1]|\n",
      "|[5.8,4.0,1.2,0.2]|\n",
      "|[5.7,4.4,1.5,0.4]|\n",
      "|[5.4,3.9,1.3,0.4]|\n",
      "|[5.1,3.5,1.4,0.3]|\n",
      "|[5.7,3.8,1.7,0.3]|\n",
      "|[5.1,3.8,1.5,0.3]|\n",
      "|[5.4,3.4,1.7,0.2]|\n",
      "+-----------------+\n",
      "only showing top 20 rows\n",
      "\n"
     ]
    }
   ],
   "source": [
    "from pyspark.sql.functions import col\n",
    "\n",
    "dataS = df.select(['features'])\n",
    "dataS.show()"
   ]
  },
  {
   "cell_type": "code",
   "execution_count": 86,
   "metadata": {},
   "outputs": [],
   "source": [
    "from pyspark.ml.clustering import KMeans\n",
    "\n",
    "k_means_2 = KMeans(featuresCol='features', k=2)\n",
    "model_k2 = k_means_2.fit(dataS)\n",
    "\n",
    "k_means_3 = KMeans(featuresCol = 'features', k=3)\n",
    "model_k3 = k_means_3.fit(dataS)\n",
    "\n",
    "k_means_4 = KMeans(featuresCol = 'features', k=4)\n",
    "model_k4 = k_means_4.fit(dataS)"
   ]
  },
  {
   "cell_type": "code",
   "execution_count": 83,
   "metadata": {},
   "outputs": [
    {
     "name": "stdout",
     "output_type": "stream",
     "text": [
      "+-----------------+----------+\n",
      "|         features|prediction|\n",
      "+-----------------+----------+\n",
      "|[4.9,3.0,1.4,0.2]|         0|\n",
      "|[4.7,3.2,1.3,0.2]|         0|\n",
      "|[4.6,3.1,1.5,0.2]|         0|\n",
      "|[5.0,3.6,1.4,0.2]|         0|\n",
      "|[5.4,3.9,1.7,0.4]|         0|\n",
      "+-----------------+----------+\n",
      "only showing top 5 rows\n",
      "\n",
      "+----------+-----+\n",
      "|prediction|count|\n",
      "+----------+-----+\n",
      "|         1|   97|\n",
      "|         0|   52|\n",
      "+----------+-----+\n",
      "\n"
     ]
    }
   ],
   "source": [
    "model_k2_data = model_k2.transform(dataS)\n",
    "model_k2_data.show(5)\n",
    "model_k2_data.groupBy('prediction').count().show()"
   ]
  },
  {
   "cell_type": "code",
   "execution_count": 84,
   "metadata": {},
   "outputs": [
    {
     "name": "stdout",
     "output_type": "stream",
     "text": [
      "+-----------------+----------+\n",
      "|         features|prediction|\n",
      "+-----------------+----------+\n",
      "|[4.9,3.0,1.4,0.2]|         0|\n",
      "|[4.7,3.2,1.3,0.2]|         0|\n",
      "|[4.6,3.1,1.5,0.2]|         0|\n",
      "|[5.0,3.6,1.4,0.2]|         0|\n",
      "|[5.4,3.9,1.7,0.4]|         0|\n",
      "+-----------------+----------+\n",
      "only showing top 5 rows\n",
      "\n",
      "+----------+-----+\n",
      "|prediction|count|\n",
      "+----------+-----+\n",
      "|         1|   62|\n",
      "|         2|   38|\n",
      "|         0|   49|\n",
      "+----------+-----+\n",
      "\n"
     ]
    }
   ],
   "source": [
    "model_k3_data = model_k3.transform(dataS)\n",
    "model_k3_data.show(5)\n",
    "model_k3_data.groupBy('prediction').count().show()"
   ]
  },
  {
   "cell_type": "code",
   "execution_count": 87,
   "metadata": {},
   "outputs": [
    {
     "name": "stdout",
     "output_type": "stream",
     "text": [
      "+-----------------+----------+\n",
      "|         features|prediction|\n",
      "+-----------------+----------+\n",
      "|[4.9,3.0,1.4,0.2]|         0|\n",
      "|[4.7,3.2,1.3,0.2]|         0|\n",
      "|[4.6,3.1,1.5,0.2]|         0|\n",
      "|[5.0,3.6,1.4,0.2]|         0|\n",
      "|[5.4,3.9,1.7,0.4]|         0|\n",
      "+-----------------+----------+\n",
      "only showing top 5 rows\n",
      "\n",
      "+----------+-----+\n",
      "|prediction|count|\n",
      "+----------+-----+\n",
      "|         1|   46|\n",
      "|         3|   26|\n",
      "|         2|   28|\n",
      "|         0|   49|\n",
      "+----------+-----+\n",
      "\n"
     ]
    }
   ],
   "source": [
    "model_k4_data = model_k4.transform(dataS)\n",
    "model_k4_data.show(5)\n",
    "model_k4_data.groupBy('prediction').count().show()"
   ]
  },
  {
   "cell_type": "code",
   "execution_count": null,
   "metadata": {},
   "outputs": [],
   "source": []
  }
 ],
 "metadata": {
  "kernelspec": {
   "display_name": "Python 3",
   "language": "python",
   "name": "python3"
  },
  "language_info": {
   "codemirror_mode": {
    "name": "ipython",
    "version": 3
   },
   "file_extension": ".py",
   "mimetype": "text/x-python",
   "name": "python",
   "nbconvert_exporter": "python",
   "pygments_lexer": "ipython3",
   "version": "3.7.1"
  }
 },
 "nbformat": 4,
 "nbformat_minor": 2
}
