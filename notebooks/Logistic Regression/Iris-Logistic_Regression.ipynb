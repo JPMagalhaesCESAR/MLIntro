{
 "cells": [
  {
   "cell_type": "markdown",
   "metadata": {},
   "source": [
    "# Iris - Logistic Regression\n",
    "This example applies Logistic Regression in order to predict the type of iris plant based on sepal and petal length and width.\n",
    "\n",
    "## Load the database and split data into train and test sets"
   ]
  },
  {
   "cell_type": "code",
   "execution_count": 1,
   "metadata": {},
   "outputs": [],
   "source": [
    "from sklearn.datasets import load_iris\n",
    "from sklearn.model_selection import train_test_split\n",
    "%matplotlib inline\n",
    "\n",
    "X, y = load_iris(return_X_y=True)\n",
    "X_train, X_test, y_train, y_test = train_test_split(X, y, test_size=0.3)"
   ]
  },
  {
   "cell_type": "markdown",
   "metadata": {},
   "source": [
    "## Create Logistic Regression models for different configurations of multi_class and solver\n",
    "\n",
    "- **multinomial** logit generalizes logistic regression to multiclass problems\n",
    "- **ovr** One-vs-Rest strategy involves training a single classifier per class, with the samples of that class as positive samples and all other samples as negatives\n",
    "\n",
    "- **lbfgs and sag** are mathematical and computacional approaches to use in the optimization problem"
   ]
  },
  {
   "cell_type": "code",
   "execution_count": 3,
   "metadata": {},
   "outputs": [
    {
     "name": "stdout",
     "output_type": "stream",
     "text": [
      "multiclass: multinomial\n",
      "solver: sag\n",
      "[[13  0  0]\n",
      " [ 0 20  0]\n",
      " [ 0  0 12]]\n",
      "              precision    recall  f1-score   support\n",
      "\n",
      "           0       1.00      1.00      1.00        13\n",
      "           1       1.00      1.00      1.00        20\n",
      "           2       1.00      1.00      1.00        12\n",
      "\n",
      "   micro avg       1.00      1.00      1.00        45\n",
      "   macro avg       1.00      1.00      1.00        45\n",
      "weighted avg       1.00      1.00      1.00        45\n",
      "\n",
      "multiclass: multinomial\n",
      "solver: lbfgs\n",
      "[[13  0  0]\n",
      " [ 0 19  1]\n",
      " [ 0  1 11]]\n",
      "              precision    recall  f1-score   support\n",
      "\n",
      "           0       1.00      1.00      1.00        13\n",
      "           1       0.95      0.95      0.95        20\n",
      "           2       0.92      0.92      0.92        12\n",
      "\n",
      "   micro avg       0.96      0.96      0.96        45\n",
      "   macro avg       0.96      0.96      0.96        45\n",
      "weighted avg       0.96      0.96      0.96        45\n",
      "\n",
      "multiclass: ovr\n",
      "solver: sag\n",
      "[[13  0  0]\n",
      " [ 0 17  3]\n",
      " [ 0  0 12]]\n",
      "              precision    recall  f1-score   support\n",
      "\n",
      "           0       1.00      1.00      1.00        13\n",
      "           1       1.00      0.85      0.92        20\n",
      "           2       0.80      1.00      0.89        12\n",
      "\n",
      "   micro avg       0.93      0.93      0.93        45\n",
      "   macro avg       0.93      0.95      0.94        45\n",
      "weighted avg       0.95      0.93      0.93        45\n",
      "\n",
      "multiclass: ovr\n",
      "solver: lbfgs\n",
      "[[13  0  0]\n",
      " [ 0 18  2]\n",
      " [ 0  1 11]]\n",
      "              precision    recall  f1-score   support\n",
      "\n",
      "           0       1.00      1.00      1.00        13\n",
      "           1       0.95      0.90      0.92        20\n",
      "           2       0.85      0.92      0.88        12\n",
      "\n",
      "   micro avg       0.93      0.93      0.93        45\n",
      "   macro avg       0.93      0.94      0.93        45\n",
      "weighted avg       0.94      0.93      0.93        45\n",
      "\n"
     ]
    }
   ],
   "source": [
    "from sklearn.linear_model import LogisticRegression\n",
    "from sklearn.metrics import classification_report, confusion_matrix\n",
    "\n",
    "for mc in ('multinomial', 'ovr'):\n",
    "    for solver in ('sag', 'lbfgs'):\n",
    "        model = LogisticRegression(random_state=0, solver=solver, multi_class=mc)\n",
    "        model.fit(X_train, y_train)\n",
    "        y_pred = model.predict(X_test)\n",
    "        print 'multiclass: ' + mc\n",
    "        print 'solver: ' + solver\n",
    "        print(confusion_matrix(y_test, y_pred)) \n",
    "        print(classification_report(y_test,y_pred))"
   ]
  },
  {
   "cell_type": "code",
   "execution_count": null,
   "metadata": {},
   "outputs": [],
   "source": []
  }
 ],
 "metadata": {
  "kernelspec": {
   "display_name": "Python 2",
   "language": "python",
   "name": "python2"
  },
  "language_info": {
   "codemirror_mode": {
    "name": "ipython",
    "version": 2
   },
   "file_extension": ".py",
   "mimetype": "text/x-python",
   "name": "python",
   "nbconvert_exporter": "python",
   "pygments_lexer": "ipython2",
   "version": "2.7.14"
  }
 },
 "nbformat": 4,
 "nbformat_minor": 2
}
